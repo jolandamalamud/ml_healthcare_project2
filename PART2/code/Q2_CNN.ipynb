{
 "cells": [
  {
   "cell_type": "code",
   "execution_count": 1,
   "id": "c8c239e8",
   "metadata": {},
   "outputs": [
    {
     "name": "stdout",
     "output_type": "stream",
     "text": [
      "Using device: cpu\n"
     ]
    }
   ],
   "source": [
    "import os\n",
    "import numpy as np\n",
    "import matplotlib.pyplot as plt\n",
    "import torch\n",
    "import torch.nn as nn\n",
    "import torch.optim as optim\n",
    "from torch.utils.data import DataLoader\n",
    "from torchvision import datasets, transforms, models\n",
    "import seaborn as sns\n",
    "from pneumoniacnn import PneumoniaCNN\n",
    "import utils as uti\n",
    "\n",
    "# Set random seeds for reproducibility\n",
    "torch.manual_seed(42)\n",
    "np.random.seed(42)\n",
    "\n",
    "# Set device (GPU if available, otherwise CPU)\n",
    "device = torch.device(\"cuda:0\" if torch.cuda.is_available() else \"cpu\")\n",
    "print(f\"Using device: {device}\")"
   ]
  },
  {
   "cell_type": "code",
   "execution_count": 2,
   "id": "cb5ccee5",
   "metadata": {},
   "outputs": [],
   "source": [
    "# Set paths\n",
    "data_dir = '../data/chest_xray'\n",
    "train_dir = os.path.join(data_dir, 'train')\n",
    "val_dir = os.path.join(data_dir, 'val')\n",
    "test_dir = os.path.join(data_dir, 'test')\n",
    "\n",
    "# Define transforms\n",
    "train_transform, test_transform, __ =  uti.transform_imgs()\n",
    "\n",
    "# Load datasets\n",
    "train_dataset = datasets.ImageFolder(root=train_dir, transform=train_transform)\n",
    "val_dataset = datasets.ImageFolder(root=val_dir, transform=test_transform)\n",
    "test_dataset = datasets.ImageFolder(root=test_dir, transform=test_transform)\n",
    "\n",
    "# Create data loaders\n",
    "batch_size = 32\n",
    "train_loader = DataLoader(train_dataset, batch_size=batch_size, shuffle=True, num_workers=4)\n",
    "val_loader = DataLoader(val_dataset, batch_size=batch_size, shuffle=False, num_workers=4)\n",
    "test_loader = DataLoader(test_dataset, batch_size=batch_size, shuffle=False, num_workers=4)"
   ]
  },
  {
   "cell_type": "code",
   "execution_count": 3,
   "id": "ab2f8403",
   "metadata": {},
   "outputs": [
    {
     "name": "stdout",
     "output_type": "stream",
     "text": [
      "Training set - Normal: 1341, Pneumonia: 3875\n",
      "Class weights - Normal: 3.889634601043997, Pneumonia: 1.3460645161290323\n"
     ]
    }
   ],
   "source": [
    "# Class distribution\n",
    "train_counts = uti.count_class_dist(train_dataset)\n",
    "\n",
    "# Calculate class weights for imbalanced dataset\n",
    "class_weights = torch.FloatTensor([len(train_dataset)/train_counts[0], len(train_dataset)/train_counts[1]]).to(device)"
   ]
  },
  {
   "cell_type": "code",
   "execution_count": 4,
   "id": "583440c7-58f6-4b58-806c-c0ace0e98f29",
   "metadata": {},
   "outputs": [
    {
     "name": "stdout",
     "output_type": "stream",
     "text": [
      "PneumoniaCNN(\n",
      "  (conv1): Conv2d(3, 16, kernel_size=(3, 3), stride=(1, 1), padding=(1, 1))\n",
      "  (conv2): Conv2d(16, 32, kernel_size=(3, 3), stride=(1, 1), padding=(1, 1))\n",
      "  (conv3): Conv2d(32, 64, kernel_size=(3, 3), stride=(1, 1), padding=(1, 1))\n",
      "  (conv4): Conv2d(64, 128, kernel_size=(3, 3), stride=(1, 1), padding=(1, 1))\n",
      "  (pool): MaxPool2d(kernel_size=2, stride=2, padding=0, dilation=1, ceil_mode=False)\n",
      "  (relu): ReLU()\n",
      "  (dropout): Dropout(p=0.3, inplace=False)\n",
      "  (batchnorm1): BatchNorm2d(16, eps=1e-05, momentum=0.1, affine=True, track_running_stats=True)\n",
      "  (batchnorm2): BatchNorm2d(32, eps=1e-05, momentum=0.1, affine=True, track_running_stats=True)\n",
      "  (batchnorm3): BatchNorm2d(64, eps=1e-05, momentum=0.1, affine=True, track_running_stats=True)\n",
      "  (batchnorm4): BatchNorm2d(128, eps=1e-05, momentum=0.1, affine=True, track_running_stats=True)\n",
      "  (fc1): Linear(in_features=25088, out_features=512, bias=True)\n",
      "  (fc2): Linear(in_features=512, out_features=2, bias=True)\n",
      ")\n"
     ]
    }
   ],
   "source": [
    "# Initialize model\n",
    "model = PneumoniaCNN()\n",
    "model = model.to(device)\n",
    "print(model)\n",
    "\n",
    "model_name = 'pneumonia_cnn_model'"
   ]
  },
  {
   "cell_type": "code",
   "execution_count": 5,
   "id": "62bcc773",
   "metadata": {},
   "outputs": [
    {
     "name": "stdout",
     "output_type": "stream",
     "text": [
      "Epoch 1/10\n",
      "----------\n",
      "Train Loss: 0.6912 Acc: 0.8886\n",
      "Val Loss: 1.0301 Acc: 0.7500\n",
      "Saved best model!\n",
      "Epoch 2/10\n",
      "----------\n",
      "Train Loss: 0.1423 Acc: 0.9477\n",
      "Val Loss: 0.8106 Acc: 0.7500\n",
      "Saved best model!\n",
      "Epoch 3/10\n",
      "----------\n",
      "Train Loss: 0.1256 Acc: 0.9513\n",
      "Val Loss: 0.8402 Acc: 0.6875\n",
      "Epoch 4/10\n",
      "----------\n",
      "Train Loss: 0.1322 Acc: 0.9517\n",
      "Val Loss: 0.2524 Acc: 0.8750\n",
      "Saved best model!\n",
      "Epoch 5/10\n",
      "----------\n",
      "Train Loss: 0.1209 Acc: 0.9557\n",
      "Val Loss: 0.7620 Acc: 0.7500\n",
      "Epoch 6/10\n",
      "----------\n",
      "Train Loss: 0.1107 Acc: 0.9605\n",
      "Val Loss: 0.3864 Acc: 0.7500\n",
      "Epoch 7/10\n",
      "----------\n",
      "Train Loss: 0.0985 Acc: 0.9649\n",
      "Val Loss: 1.4859 Acc: 0.6250\n",
      "Epoch 8/10\n",
      "----------\n",
      "Train Loss: 0.0776 Acc: 0.9703\n",
      "Val Loss: 0.3135 Acc: 0.8750\n",
      "Epoch 9/10\n",
      "----------\n",
      "Train Loss: 0.0694 Acc: 0.9741\n",
      "Val Loss: 0.5185 Acc: 0.8750\n",
      "Epoch 10/10\n",
      "----------\n",
      "Train Loss: 0.0788 Acc: 0.9689\n",
      "Val Loss: 0.3398 Acc: 0.7500\n",
      "Training complete in 18m 10s\n",
      "Model saved successfully!\n"
     ]
    }
   ],
   "source": [
    "# Define loss function and optimizer\n",
    "criterion = nn.CrossEntropyLoss(weight=class_weights)  # Using weighted loss for imbalanced classes\n",
    "optimizer = optim.Adam(model.parameters(), lr=0.001)\n",
    "scheduler = optim.lr_scheduler.ReduceLROnPlateau(optimizer, 'min', patience=2, factor=0.5)\n",
    "\n",
    "# Train the model\n",
    "model = uti.train_model(model, train_dataset, train_loader, val_dataset, val_loader, \\\n",
    "                        criterion, optimizer, scheduler, model_name, device, num_epochs=10)\n",
    "\n",
    "# Save the model\n",
    "torch.save({\n",
    "    'model_state_dict': model.state_dict(),\n",
    "    'optimizer_state_dict': optimizer.state_dict(),\n",
    "    'class_names': train_dataset.classes,\n",
    "}, 'cnn/' + model_name + '.pth')\n",
    "\n",
    "print(\"Model saved successfully!\")"
   ]
  },
  {
   "cell_type": "code",
   "execution_count": 6,
   "id": "2c38b719-7307-44a4-88ed-2a682a6e313a",
   "metadata": {},
   "outputs": [
    {
     "name": "stdout",
     "output_type": "stream",
     "text": [
      "\n",
      "Test Set Performance Metrics:\n",
      "Accuracy: 0.8446\n",
      "Precision: 0.8415\n",
      "Recall: 0.9256\n",
      "F1 Score: 0.8816\n"
     ]
    },
    {
     "data": {
      "image/png": "[encoded data removed]",
      "text/plain": [
       "<Figure size 800x600 with 2 Axes>"
      ]
     },
     "metadata": {},
     "output_type": "display_data"
    }
   ],
   "source": [
    "# Evaluate on test set\n",
    "test_metrics = uti.evaluate_model(model, test_loader, device, model_name)"
   ]
  },
  {
   "cell_type": "code",
   "execution_count": null,
   "id": "4126390e-55ef-40e9-a97a-79f9173db070",
   "metadata": {},
   "outputs": [],
   "source": []
  }
 ],
 "metadata": {
  "kernelspec": {
   "display_name": "Python 3 (ipykernel)",
   "language": "python",
   "name": "python3"
  },
  "language_info": {
   "codemirror_mode": {
    "name": "ipython",
    "version": 3
   },
   "file_extension": ".py",
   "mimetype": "text/x-python",
   "name": "python",
   "nbconvert_exporter": "python",
   "pygments_lexer": "ipython3",
   "version": "3.9.21"
  }
 },
 "nbformat": 4,
 "nbformat_minor": 5
}
