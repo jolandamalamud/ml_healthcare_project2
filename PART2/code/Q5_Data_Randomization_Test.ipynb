{
 "cells": [
  {
   "cell_type": "code",
   "execution_count": 1,
   "id": "d4f1571e",
   "metadata": {},
   "outputs": [
    {
     "name": "stdout",
     "output_type": "stream",
     "text": [
      "Using device: cpu\n"
     ]
    }
   ],
   "source": [
    "import os\n",
    "import random\n",
    "import numpy as np\n",
    "import matplotlib.pyplot as plt\n",
    "import torch\n",
    "import torch.nn as nn\n",
    "import torch.optim as optim\n",
    "from torch.utils.data import DataLoader, Dataset\n",
    "from torchvision import datasets, transforms\n",
    "from pneumoniacnn import PneumoniaCNN\n",
    "import utils as uti\n",
    "\n",
    "# Set random seeds for reproducibility\n",
    "torch.manual_seed(42)\n",
    "np.random.seed(42)\n",
    "random.seed(42)\n",
    "\n",
    "# Set device (GPU if available, otherwise CPU)\n",
    "device = torch.device(\"cuda:0\" if torch.cuda.is_available() else \"cpu\")\n",
    "print(f\"Using device: {device}\")"
   ]
  },
  {
   "cell_type": "code",
   "execution_count": 2,
   "id": "684ef26e-8451-44fa-a71e-0d6dc1b83c7a",
   "metadata": {},
   "outputs": [],
   "source": [
    "# Set paths\n",
    "data_dir = '../data/chest_xray'\n",
    "train_dir = os.path.join(data_dir, 'train')\n",
    "val_dir = os.path.join(data_dir, 'val')\n",
    "test_dir = os.path.join(data_dir, 'test')\n",
    "\n",
    "# Define transforms\n",
    "train_transform, test_transform, __ =  uti.transform_imgs()\n",
    "\n",
    "# Load datasets\n",
    "train_dataset = datasets.ImageFolder(root=train_dir, transform=train_transform)\n",
    "val_dataset = datasets.ImageFolder(root=val_dir, transform=test_transform)\n",
    "test_dataset = datasets.ImageFolder(root=test_dir, transform=test_transform)"
   ]
  },
  {
   "cell_type": "code",
   "execution_count": 3,
   "id": "6fb0e18c-d319-4bb5-b800-2833c77dcf1f",
   "metadata": {
    "scrolled": true
   },
   "outputs": [],
   "source": [
    "class RandomLabelDataset(Dataset):\n",
    "    def __init__(self, original_dataset, num_classes=2, random_seed=42):\n",
    "        \"\"\"\n",
    "        Creates a dataset with randomized labels from an existing dataset\n",
    "        \n",
    "        Args:\n",
    "            original_dataset: The source dataset, each item should be (tensor, label)\n",
    "            num_classes: Number of classes in the dataset\n",
    "            random_seed: Seed for reproducibility\n",
    "        \"\"\"\n",
    "        self.original_dataset = original_dataset\n",
    "        self.num_classes = num_classes\n",
    "        \n",
    "        # Set random seed for reproducibility\n",
    "        random.seed(random_seed)\n",
    "        \n",
    "        # Generate random labels\n",
    "        self.random_labels = [random.randint(0, num_classes-1) for _ in range(len(original_dataset))]\n",
    "        \n",
    "        # Print some statistics\n",
    "        original_labels = [original_dataset[i][1] for i in range(min(len(original_dataset), 1000))]\n",
    "        class_distribution = {}\n",
    "        random_distribution = {}\n",
    "        \n",
    "        for label in original_labels:\n",
    "            if label in class_distribution:\n",
    "                class_distribution[label] += 1\n",
    "            else:\n",
    "                class_distribution[label] = 1\n",
    "                \n",
    "        for label in self.random_labels[:1000]:\n",
    "            if label in random_distribution:\n",
    "                random_distribution[label] += 1\n",
    "            else:\n",
    "                random_distribution[label] = 1\n",
    "        \n",
    "        print(f\"Original class distribution (first 1000): {class_distribution}\")\n",
    "        print(f\"Random class distribution (first 1000): {random_distribution}\")\n",
    "    \n",
    "    def __getitem__(self, index):\n",
    "        # Get the data tensor from the original dataset but use our random label\n",
    "        data, _ = self.original_dataset[index]\n",
    "        return data, self.random_labels[index]\n",
    "    \n",
    "    def __len__(self):\n",
    "        return len(self.original_dataset)"
   ]
  },
  {
   "cell_type": "code",
   "execution_count": 4,
   "id": "3a74e1de-07d6-4cab-9d24-6982d16f7697",
   "metadata": {},
   "outputs": [
    {
     "name": "stdout",
     "output_type": "stream",
     "text": [
      "Original class distribution (first 1000): {0: 1000}\n",
      "Random class distribution (first 1000): {0: 486, 1: 514}\n"
     ]
    }
   ],
   "source": [
    "randomized_train_dataset = RandomLabelDataset(train_dataset, num_classes=2)"
   ]
  },
  {
   "cell_type": "code",
   "execution_count": 5,
   "id": "451d4fee-7f42-4417-88cd-33984d9dfd13",
   "metadata": {},
   "outputs": [],
   "source": [
    "# Create dataloaders\n",
    "batch_size = 32\n",
    "train_loader = DataLoader(randomized_train_dataset, batch_size=batch_size, shuffle=True, num_workers=0)\n",
    "val_loader = DataLoader(val_dataset, batch_size=batch_size, shuffle=False, num_workers=4)\n",
    "test_loader = DataLoader(test_dataset, batch_size=batch_size, shuffle=False, num_workers=4)"
   ]
  },
  {
   "cell_type": "code",
   "execution_count": 6,
   "id": "138e971f-9abe-4e5a-af78-7a793a5d439b",
   "metadata": {},
   "outputs": [
    {
     "name": "stdout",
     "output_type": "stream",
     "text": [
      "Training set - Normal: 2573, Pneumonia: 2643\n",
      "Class weights - Normal: 2.0272055965798677, Pneumonia: 1.9735149451381007\n",
      "Epoch 1/10\n",
      "----------\n",
      "Train Loss: 1.4068 Acc: 0.4933\n",
      "Val Loss: 0.6848 Acc: 0.5000\n",
      "Saved best model!\n",
      "Epoch 2/10\n",
      "----------\n",
      "Train Loss: 0.6942 Acc: 0.5059\n",
      "Val Loss: 0.6908 Acc: 0.5625\n",
      "Epoch 3/10\n",
      "----------\n",
      "Train Loss: 0.6946 Acc: 0.4902\n",
      "Val Loss: 0.6924 Acc: 0.5000\n",
      "Epoch 4/10\n",
      "----------\n",
      "Train Loss: 0.6934 Acc: 0.4971\n",
      "Val Loss: 0.6933 Acc: 0.5000\n",
      "Epoch 5/10\n",
      "----------\n",
      "Train Loss: 0.6931 Acc: 0.4931\n",
      "Val Loss: 0.6925 Acc: 0.5000\n",
      "Epoch 6/10\n",
      "----------\n",
      "Train Loss: 0.6938 Acc: 0.4937\n",
      "Val Loss: 0.6948 Acc: 0.5000\n",
      "Epoch 7/10\n",
      "----------\n",
      "Train Loss: 0.6935 Acc: 0.4946\n",
      "Val Loss: 0.6931 Acc: 0.5000\n",
      "Epoch 8/10\n",
      "----------\n",
      "Train Loss: 0.6929 Acc: 0.4948\n",
      "Val Loss: 0.6929 Acc: 0.5000\n",
      "Epoch 9/10\n",
      "----------\n",
      "Train Loss: 0.6929 Acc: 0.5010\n",
      "Val Loss: 0.6928 Acc: 0.3750\n",
      "Epoch 10/10\n",
      "----------\n",
      "Train Loss: 0.6929 Acc: 0.5036\n",
      "Val Loss: 0.6937 Acc: 0.4375\n",
      "Training complete in 21m 57s\n",
      "Randomized model saved successfully!\n"
     ]
    }
   ],
   "source": [
    "# Class distribution\n",
    "train_counts = uti.count_class_dist(randomized_train_dataset)\n",
    "\n",
    "# Calculate class weights for imbalanced dataset\n",
    "class_weights = torch.FloatTensor([len(randomized_train_dataset)/train_counts[0], len(randomized_train_dataset)/train_counts[1]]).to(device)\n",
    "\n",
    "# Initialize a new model for randomized training\n",
    "randomized_model = PneumoniaCNN()\n",
    "randomized_model.to(device)\n",
    "\n",
    "model_name = 'randomized_pneumonia_model'\n",
    "\n",
    "# Define loss function and optimizer\n",
    "criterion = nn.CrossEntropyLoss(weight=class_weights)  # Using weighted loss for imbalanced classes\n",
    "optimizer = optim.Adam(randomized_model.parameters(), lr=0.001)\n",
    "scheduler = optim.lr_scheduler.ReduceLROnPlateau(optimizer, 'min', patience=2, factor=0.5)\n",
    "\n",
    "# Train the randomized model\n",
    "randomized_model = uti.train_model(randomized_model, randomized_train_dataset, train_loader, val_dataset, val_loader, \\\n",
    "                                   criterion, optimizer, scheduler, model_name, device, num_epochs=10)\n",
    "\n",
    "# Save the randomized model for later use\n",
    "torch.save({\n",
    "    'model_state_dict': randomized_model.state_dict(),\n",
    "    'optimizer_state_dict': optimizer.state_dict(),\n",
    "    'class_names': train_dataset.classes,\n",
    "}, 'cnn/' + model_name + '.pth')\n",
    "\n",
    "print(\"Randomized model saved successfully!\")"
   ]
  },
  {
   "cell_type": "code",
   "execution_count": 7,
   "id": "cb56a706-2e52-4a90-91f0-d61b228ca2dd",
   "metadata": {},
   "outputs": [
    {
     "name": "stdout",
     "output_type": "stream",
     "text": [
      "\n",
      "Test Set Performance Metrics:\n",
      "Accuracy: 0.6266\n",
      "Precision: 0.6268\n",
      "Recall: 0.9949\n",
      "F1 Score: 0.7691\n"
     ]
    },
    {
     "data": {
      "image/png": "[encoded data removed]",
      "text/plain": [
       "<Figure size 800x600 with 2 Axes>"
      ]
     },
     "metadata": {},
     "output_type": "display_data"
    }
   ],
   "source": [
    "# Evaluate on test set\n",
    "test_metrics = uti.evaluate_model(randomized_model, test_loader, device, model_name)"
   ]
  },
  {
   "cell_type": "code",
   "execution_count": null,
   "id": "8ddceefe-3353-455d-9c86-9dab1fd05a06",
   "metadata": {},
   "outputs": [],
   "source": []
  }
 ],
 "metadata": {
  "kernelspec": {
   "display_name": "Python 3 (ipykernel)",
   "language": "python",
   "name": "python3"
  },
  "language_info": {
   "codemirror_mode": {
    "name": "ipython",
    "version": 3
   },
   "file_extension": ".py",
   "mimetype": "text/x-python",
   "name": "python",
   "nbconvert_exporter": "python",
   "pygments_lexer": "ipython3",
   "version": "3.9.21"
  }
 },
 "nbformat": 4,
 "nbformat_minor": 5
}
